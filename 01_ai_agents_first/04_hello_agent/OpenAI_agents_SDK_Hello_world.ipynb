{
  "cells": [
    {
      "cell_type": "markdown",
      "metadata": {
        "id": "view-in-github",
        "colab_type": "text"
      },
      "source": [
        "<a href=\"https://colab.research.google.com/github/mahmed31098/learn-agentic-ai/blob/main/01_ai_agents_first/04_hello_agent/OpenAI_agents_SDK_Hello_world.ipynb\" target=\"_parent\"><img src=\"https://colab.research.google.com/assets/colab-badge.svg\" alt=\"Open In Colab\"/></a>"
      ]
    },
    {
      "cell_type": "markdown",
      "metadata": {
        "id": "30327e3a"
      },
      "source": [
        "# 🚀 Exploring the openai-agents Library with Gemini\n",
        "This notebook shows how to use the openai-agents library with Gemini API to build conversational agents—covering two execution methods"
      ]
    },
    {
      "cell_type": "markdown",
      "metadata": {
        "id": "wd12XkqwSRxc"
      },
      "source": [
        "# 📦 installation"
      ]
    },
    {
      "cell_type": "code",
      "execution_count": 1,
      "metadata": {
        "id": "8U2DuZP0_1Iu",
        "colab": {
          "base_uri": "https://localhost:8080/"
        },
        "outputId": "d6550385-5a61-4c21-9da7-0c636cc927ff"
      },
      "outputs": [
        {
          "output_type": "stream",
          "name": "stdout",
          "text": [
            "\u001b[2K     \u001b[90m━━━━━━━━━━━━━━━━━━━━━━━━━━━━━━━━━━━━━━━━\u001b[0m \u001b[32m61.0/61.0 kB\u001b[0m \u001b[31m2.5 MB/s\u001b[0m eta \u001b[36m0:00:00\u001b[0m\n",
            "\u001b[2K   \u001b[90m━━━━━━━━━━━━━━━━━━━━━━━━━━━━━━━━━━━━━━━━\u001b[0m \u001b[32m164.3/164.3 kB\u001b[0m \u001b[31m6.6 MB/s\u001b[0m eta \u001b[36m0:00:00\u001b[0m\n",
            "\u001b[2K   \u001b[90m━━━━━━━━━━━━━━━━━━━━━━━━━━━━━━━━━━━━━━━━\u001b[0m \u001b[32m137.1/137.1 kB\u001b[0m \u001b[31m9.5 MB/s\u001b[0m eta \u001b[36m0:00:00\u001b[0m\n",
            "\u001b[2K   \u001b[90m━━━━━━━━━━━━━━━━━━━━━━━━━━━━━━━━━━━━━━━━\u001b[0m \u001b[32m158.5/158.5 kB\u001b[0m \u001b[31m11.5 MB/s\u001b[0m eta \u001b[36m0:00:00\u001b[0m\n",
            "\u001b[2K   \u001b[90m━━━━━━━━━━━━━━━━━━━━━━━━━━━━━━━━━━━━━━━━\u001b[0m \u001b[32m45.2/45.2 kB\u001b[0m \u001b[31m2.9 MB/s\u001b[0m eta \u001b[36m0:00:00\u001b[0m\n",
            "\u001b[?25h"
          ]
        }
      ],
      "source": [
        "!pip install -Uq openai-agents # -U flag is used if there is already something so it must update\n",
        "# -q flag is used so that there shouldnt be anything shown while installing"
      ]
    },
    {
      "cell_type": "markdown",
      "metadata": {
        "id": "jL-reb6RR_H6"
      },
      "source": [
        "# 📦 Temporary Import, just for notebooks"
      ]
    },
    {
      "cell_type": "code",
      "execution_count": 3,
      "metadata": {
        "id": "OE_-gMwUDw8b"
      },
      "outputs": [],
      "source": [
        "#in notebook, we have an event loop working from past and our SDK agent is natively asynchronus\n",
        "#so to run async we use nest_asyncio\n",
        "import nest_asyncio\n",
        "nest_asyncio.apply()\n",
        "#with this we can run any async function on our colab notebook"
      ]
    },
    {
      "cell_type": "markdown",
      "metadata": {
        "id": "MywTysH-Rn2h"
      },
      "source": [
        "# 📦 Imports"
      ]
    },
    {
      "cell_type": "code",
      "execution_count": 4,
      "metadata": {
        "id": "dvNo75PtD5YL"
      },
      "outputs": [],
      "source": [
        "\n",
        "#agents is a module which come installation of openai-agents\n",
        "from agents import Agent, Runner, AsyncOpenAI, OpenAIChatCompletionsModel, set_tracing_disabled\n",
        "# Starting with capital letter its class, with small letter its method\n",
        "#Agent -> its persona\n",
        "#Runner -> the thing on which my agent would work\n",
        "#AsyncOpenAI & OpenAiChatCompletionModel -> for configuration of ChatCompletion\n",
        "#set_tracing_disabled -> LLM is non deterministic, we dont know which route it will take"
      ]
    },
    {
      "cell_type": "markdown",
      "metadata": {
        "id": "uO3deejXRZw8"
      },
      "source": [
        "# 🔐 Step 1: Setup for Api Keys"
      ]
    },
    {
      "cell_type": "code",
      "execution_count": 5,
      "metadata": {
        "id": "9p1ynoc0EDCx"
      },
      "outputs": [],
      "source": [
        "from google.colab import userdata\n",
        "gemini_api_key = userdata.get(\"GOOGLE_API_KEY\")\n"
      ]
    },
    {
      "cell_type": "markdown",
      "metadata": {
        "id": "S4GITaFOP526"
      },
      "source": [
        "# 🌐  Step 2: Client Setup for Connecting to **Gemini**"
      ]
    },
    {
      "cell_type": "code",
      "execution_count": 7,
      "metadata": {
        "id": "IofWknGLEHHI"
      },
      "outputs": [],
      "source": [
        "# Tracing disabled\n",
        "set_tracing_disabled(disabled=True)\n",
        "\n",
        "# 1. Which LLM Service?\n",
        "#external_client: AsyncOpenAI using \":\", which is called type hinting\n",
        "#type hinting - declares the expected type of a variable for readability, tooling, and static analysis.\n",
        "# my client will always initiate from this class AsyncOpenAI\n",
        "# so if I pass the attribute OpenAIChatCompletionModel at this point it gives me the error if its not available.\n",
        "\n",
        "external_client: AsyncOpenAI = AsyncOpenAI(\n",
        "    #we will use this AsyncOpenAI class telling which provider am I using\n",
        "    api_key=gemini_api_key, # Api Key and route through baseurl is provided which tells with this key and following this route you can do XYZ\n",
        "    base_url=\"https://generativelanguage.googleapis.com/v1beta/openai/\", # google has provided this url so that with the key and this path it can be used\n",
        ")\n",
        "\n",
        "# 2. Which LLM Model?\n",
        "#class (OpenAIChatCompletionsModel) is defined as a type (type hinting)\n",
        "llm_model: OpenAIChatCompletionsModel = OpenAIChatCompletionsModel(\n",
        "    model=\"gemini-2.5-flash\", #https://aistudio.google.com/app/prompts/new_chat you can see models of gemini from here\n",
        "    openai_client=external_client # both client and model name provided\n",
        ")"
      ]
    },
    {
      "cell_type": "markdown",
      "metadata": {
        "id": "Upg62mcUJUB4"
      },
      "source": [
        "# 💬  Step 3 Running Agent Synchronously"
      ]
    },
    {
      "cell_type": "code",
      "execution_count": 8,
      "metadata": {
        "colab": {
          "base_uri": "https://localhost:8080/"
        },
        "collapsed": true,
        "id": "4QgfJqHZJV_M",
        "outputId": "11759ac9-602a-4264-8758-5a67a641b37e"
      },
      "outputs": [
        {
          "output_type": "stream",
          "name": "stdout",
          "text": [
            "\n",
            "CALLING AGENT\n",
            "\n",
            "Imparare la matematica è assolutamente fondamentale per chiunque voglia lavorare con o sviluppare Agenti di Intelligenza Artificiale (AI). Ecco i motivi principali:\n",
            "\n",
            "1.  **Linguaggio Fondamentale:** La matematica è il linguaggio in cui sono scritti e concettualizzati tutti gli algoritmi di AI e Machine Learning. Senza una solida base matematica, si è in grado di usare solo le \"scatole nere\" già pronte, ma non di comprenderne il funzionamento interno, né tantomeno di modificarle o crearne di nuove.\n",
            "\n",
            "2.  **Rappresentazione dei Dati:**\n",
            "    *   **Algebra Lineare:** I dati (immagini, testo, suoni, numeri) vengono rappresentati come vettori, matrici o tensori. L'algebra lineare fornisce gli strumenti per manipolare, trasformare e analizzare questi dati in modo efficiente. Ogni operazione in una rete neurale, ad esempio, è un'operazione di algebra lineare.\n",
            "\n",
            "3.  **Addestramento e Ottimizzazione dei Modelli:**\n",
            "    *   **Calcolo Differenziale (Derivate):** Gli algoritmi di apprendimento (come la discesa del gradiente) si basano sulla minimizzazione di una \"funzione di costo\" (o perdita). Il calcolo differenziale è essenziale per capire come le variazioni nei parametri di un modello influenzino il suo output e per trovare i \"gradienti\" che indicano la direzione in cui il modello deve essere aggiustato per migliorare le sue prestazioni.\n",
            "    *   **Ottimizzazione:** Tutta la teoria dietro la ricerca del \"miglior\" set di parametri per un modello AI si basa su principi di ottimizzazione matematica.\n",
            "\n",
            "4.  **Gestione dell'Incertezza e Previsione:**\n",
            "    *   **Probabilità e Statistica:** Il mondo reale è intrinsecamente incerto. Gli agenti AI devono prendere decisioni basate su dati incompleti o rumorosi. La probabilità e la statistica forniscono gli strumenti per:\n",
            "        *   Modellare l'incertezza (es. distribuzioni di probabilità).\n",
            "        *   Fare inferenze e previsioni (es. classificazione, regressione).\n",
            "        *   Quantificare la fiducia nelle decisioni prese (es. reti bayesiane).\n",
            "        *   Analizzare e comprendere i dati di input.\n",
            "\n",
            "5.  **Progettazione di Algoritmi e Logica:**\n",
            "    *   **Matematica Discreta:** Fondamentale per la logica computazionale, la teoria dei grafi (utilizzata in algoritmi di ricerca e reti neurali), la combinatoria e la comprensione della complessità algoritmica. Questa branca della matematica è cruciale per costruire algoritmi efficienti e per capire le limitazioni computazionali.\n",
            "\n",
            "6.  **Comprensione Profonda e Innovazione:**\n",
            "    *   Senza la matematica, un agente AI è una \"scatola nera\". Con la matematica, puoi aprire la scatola, capire perché un modello funziona (o non funziona), debuggarlo, migliorarlo e, soprattutto, *innovare*. Ti permette di sviluppare nuove architetture, funzioni di perdita personalizzate o algoritmi di apprendimento più efficienti.\n",
            "\n",
            "7.  **Problem Solving e Pensiero Critico:**\n",
            "    *   Lo studio della matematica affina la capacità di problem solving, il pensiero logico e la capacità di astrazione, tutte competenze cruciali per affrontare le sfide complesse e spesso inedite che si presentano nello sviluppo di agenti AI.\n",
            "\n",
            "In sintesi, la matematica non è un optional, ma la spina dorsale dell'intelligenza artificiale. Permette non solo di *utilizzare* gli strumenti esistenti, ma di *comprenderli a fondo*, di *innovare* e di *creare* la prossima generazione di agenti intelligenti.\n"
          ]
        }
      ],
      "source": [
        "math_agent: Agent = Agent(name=\"MathAgent\", # any agent can be defined\n",
        "                     instructions=\"\"\"You are a helpful math assistant.\n",
        "                     Always answer in Italian\"\"\", # here we do either prompt engineering or context engineering\n",
        "                     model=llm_model) # gemini-2.5 as agent brain - chat completions - already predefined\n",
        "# these above name, instructions are class attributes, the below run_sync is Runner class method\n",
        "\n",
        "\n",
        "# to run an agent we need an environment, user takes the question to llm, for that we use agent loop,\n",
        "# in OpenAI it provides runner loop which is fully customisable\n",
        "# in our case we keep other things as default.\n",
        "#In the Runner Class we will use its methods like run or run_sync or run_streamed only for now\n",
        "\n",
        "result: Runner = Runner.run_sync(math_agent, \"why learn math for AI Agents?\") #math_agent is our starting agent which will be used as the starting point\n",
        "\n",
        "print(\"\\nCALLING AGENT\\n\")\n",
        "print(result.final_output) # result contains loop and alot of different things but we are just interested in final answer thats why .final_output used\n",
        "\n",
        "# uptil now we havent given it AI the power to take an action hence uptull now its generative AI\n"
      ]
    },
    {
      "cell_type": "code",
      "execution_count": 9,
      "metadata": {
        "colab": {
          "base_uri": "https://localhost:8080/"
        },
        "collapsed": true,
        "id": "Z5oKiMPbd7BC",
        "outputId": "082e7f56-088d-4aca-f2ac-1cd0613f1fbf"
      },
      "outputs": [
        {
          "output_type": "execute_result",
          "data": {
            "text/plain": [
              "RunResult(input='why learn math for AI Agents?', new_items=[MessageOutputItem(agent=Agent(name='MathAgent', handoff_description=None, tools=[], mcp_servers=[], mcp_config={}, instructions='You are a helpful math assistant. \\n                     Always answer in Italian', prompt=None, handoffs=[], model=<agents.models.openai_chatcompletions.OpenAIChatCompletionsModel object at 0x7e29f9e07490>, model_settings=ModelSettings(temperature=None, top_p=None, frequency_penalty=None, presence_penalty=None, tool_choice=None, parallel_tool_calls=None, truncation=None, max_tokens=None, reasoning=None, metadata=None, store=None, include_usage=None, response_include=None, extra_query=None, extra_body=None, extra_headers=None, extra_args=None), input_guardrails=[], output_guardrails=[], output_type=None, hooks=None, tool_use_behavior='run_llm_again', reset_tool_choice=True), raw_item=ResponseOutputMessage(id='__fake_id__', content=[ResponseOutputText(annotations=[], text='Imparare la matematica è assolutamente fondamentale per chiunque voglia lavorare con o sviluppare Agenti di Intelligenza Artificiale (AI). Ecco i motivi principali:\\n\\n1.  **Linguaggio Fondamentale:** La matematica è il linguaggio in cui sono scritti e concettualizzati tutti gli algoritmi di AI e Machine Learning. Senza una solida base matematica, si è in grado di usare solo le \"scatole nere\" già pronte, ma non di comprenderne il funzionamento interno, né tantomeno di modificarle o crearne di nuove.\\n\\n2.  **Rappresentazione dei Dati:**\\n    *   **Algebra Lineare:** I dati (immagini, testo, suoni, numeri) vengono rappresentati come vettori, matrici o tensori. L\\'algebra lineare fornisce gli strumenti per manipolare, trasformare e analizzare questi dati in modo efficiente. Ogni operazione in una rete neurale, ad esempio, è un\\'operazione di algebra lineare.\\n\\n3.  **Addestramento e Ottimizzazione dei Modelli:**\\n    *   **Calcolo Differenziale (Derivate):** Gli algoritmi di apprendimento (come la discesa del gradiente) si basano sulla minimizzazione di una \"funzione di costo\" (o perdita). Il calcolo differenziale è essenziale per capire come le variazioni nei parametri di un modello influenzino il suo output e per trovare i \"gradienti\" che indicano la direzione in cui il modello deve essere aggiustato per migliorare le sue prestazioni.\\n    *   **Ottimizzazione:** Tutta la teoria dietro la ricerca del \"miglior\" set di parametri per un modello AI si basa su principi di ottimizzazione matematica.\\n\\n4.  **Gestione dell\\'Incertezza e Previsione:**\\n    *   **Probabilità e Statistica:** Il mondo reale è intrinsecamente incerto. Gli agenti AI devono prendere decisioni basate su dati incompleti o rumorosi. La probabilità e la statistica forniscono gli strumenti per:\\n        *   Modellare l\\'incertezza (es. distribuzioni di probabilità).\\n        *   Fare inferenze e previsioni (es. classificazione, regressione).\\n        *   Quantificare la fiducia nelle decisioni prese (es. reti bayesiane).\\n        *   Analizzare e comprendere i dati di input.\\n\\n5.  **Progettazione di Algoritmi e Logica:**\\n    *   **Matematica Discreta:** Fondamentale per la logica computazionale, la teoria dei grafi (utilizzata in algoritmi di ricerca e reti neurali), la combinatoria e la comprensione della complessità algoritmica. Questa branca della matematica è cruciale per costruire algoritmi efficienti e per capire le limitazioni computazionali.\\n\\n6.  **Comprensione Profonda e Innovazione:**\\n    *   Senza la matematica, un agente AI è una \"scatola nera\". Con la matematica, puoi aprire la scatola, capire perché un modello funziona (o non funziona), debuggarlo, migliorarlo e, soprattutto, *innovare*. Ti permette di sviluppare nuove architetture, funzioni di perdita personalizzate o algoritmi di apprendimento più efficienti.\\n\\n7.  **Problem Solving e Pensiero Critico:**\\n    *   Lo studio della matematica affina la capacità di problem solving, il pensiero logico e la capacità di astrazione, tutte competenze cruciali per affrontare le sfide complesse e spesso inedite che si presentano nello sviluppo di agenti AI.\\n\\nIn sintesi, la matematica non è un optional, ma la spina dorsale dell\\'intelligenza artificiale. Permette non solo di *utilizzare* gli strumenti esistenti, ma di *comprenderli a fondo*, di *innovare* e di *creare* la prossima generazione di agenti intelligenti.', type='output_text', logprobs=None)], role='assistant', status='completed', type='message'), type='message_output_item')], raw_responses=[ModelResponse(output=[ResponseOutputMessage(id='__fake_id__', content=[ResponseOutputText(annotations=[], text='Imparare la matematica è assolutamente fondamentale per chiunque voglia lavorare con o sviluppare Agenti di Intelligenza Artificiale (AI). Ecco i motivi principali:\\n\\n1.  **Linguaggio Fondamentale:** La matematica è il linguaggio in cui sono scritti e concettualizzati tutti gli algoritmi di AI e Machine Learning. Senza una solida base matematica, si è in grado di usare solo le \"scatole nere\" già pronte, ma non di comprenderne il funzionamento interno, né tantomeno di modificarle o crearne di nuove.\\n\\n2.  **Rappresentazione dei Dati:**\\n    *   **Algebra Lineare:** I dati (immagini, testo, suoni, numeri) vengono rappresentati come vettori, matrici o tensori. L\\'algebra lineare fornisce gli strumenti per manipolare, trasformare e analizzare questi dati in modo efficiente. Ogni operazione in una rete neurale, ad esempio, è un\\'operazione di algebra lineare.\\n\\n3.  **Addestramento e Ottimizzazione dei Modelli:**\\n    *   **Calcolo Differenziale (Derivate):** Gli algoritmi di apprendimento (come la discesa del gradiente) si basano sulla minimizzazione di una \"funzione di costo\" (o perdita). Il calcolo differenziale è essenziale per capire come le variazioni nei parametri di un modello influenzino il suo output e per trovare i \"gradienti\" che indicano la direzione in cui il modello deve essere aggiustato per migliorare le sue prestazioni.\\n    *   **Ottimizzazione:** Tutta la teoria dietro la ricerca del \"miglior\" set di parametri per un modello AI si basa su principi di ottimizzazione matematica.\\n\\n4.  **Gestione dell\\'Incertezza e Previsione:**\\n    *   **Probabilità e Statistica:** Il mondo reale è intrinsecamente incerto. Gli agenti AI devono prendere decisioni basate su dati incompleti o rumorosi. La probabilità e la statistica forniscono gli strumenti per:\\n        *   Modellare l\\'incertezza (es. distribuzioni di probabilità).\\n        *   Fare inferenze e previsioni (es. classificazione, regressione).\\n        *   Quantificare la fiducia nelle decisioni prese (es. reti bayesiane).\\n        *   Analizzare e comprendere i dati di input.\\n\\n5.  **Progettazione di Algoritmi e Logica:**\\n    *   **Matematica Discreta:** Fondamentale per la logica computazionale, la teoria dei grafi (utilizzata in algoritmi di ricerca e reti neurali), la combinatoria e la comprensione della complessità algoritmica. Questa branca della matematica è cruciale per costruire algoritmi efficienti e per capire le limitazioni computazionali.\\n\\n6.  **Comprensione Profonda e Innovazione:**\\n    *   Senza la matematica, un agente AI è una \"scatola nera\". Con la matematica, puoi aprire la scatola, capire perché un modello funziona (o non funziona), debuggarlo, migliorarlo e, soprattutto, *innovare*. Ti permette di sviluppare nuove architetture, funzioni di perdita personalizzate o algoritmi di apprendimento più efficienti.\\n\\n7.  **Problem Solving e Pensiero Critico:**\\n    *   Lo studio della matematica affina la capacità di problem solving, il pensiero logico e la capacità di astrazione, tutte competenze cruciali per affrontare le sfide complesse e spesso inedite che si presentano nello sviluppo di agenti AI.\\n\\nIn sintesi, la matematica non è un optional, ma la spina dorsale dell\\'intelligenza artificiale. Permette non solo di *utilizzare* gli strumenti esistenti, ma di *comprenderli a fondo*, di *innovare* e di *creare* la prossima generazione di agenti intelligenti.', type='output_text', logprobs=None)], role='assistant', status='completed', type='message')], usage=Usage(requests=1, input_tokens=23, input_tokens_details=InputTokensDetails(cached_tokens=0), output_tokens=827, output_tokens_details=OutputTokensDetails(reasoning_tokens=0), total_tokens=2439), response_id=None)], final_output='Imparare la matematica è assolutamente fondamentale per chiunque voglia lavorare con o sviluppare Agenti di Intelligenza Artificiale (AI). Ecco i motivi principali:\\n\\n1.  **Linguaggio Fondamentale:** La matematica è il linguaggio in cui sono scritti e concettualizzati tutti gli algoritmi di AI e Machine Learning. Senza una solida base matematica, si è in grado di usare solo le \"scatole nere\" già pronte, ma non di comprenderne il funzionamento interno, né tantomeno di modificarle o crearne di nuove.\\n\\n2.  **Rappresentazione dei Dati:**\\n    *   **Algebra Lineare:** I dati (immagini, testo, suoni, numeri) vengono rappresentati come vettori, matrici o tensori. L\\'algebra lineare fornisce gli strumenti per manipolare, trasformare e analizzare questi dati in modo efficiente. Ogni operazione in una rete neurale, ad esempio, è un\\'operazione di algebra lineare.\\n\\n3.  **Addestramento e Ottimizzazione dei Modelli:**\\n    *   **Calcolo Differenziale (Derivate):** Gli algoritmi di apprendimento (come la discesa del gradiente) si basano sulla minimizzazione di una \"funzione di costo\" (o perdita). Il calcolo differenziale è essenziale per capire come le variazioni nei parametri di un modello influenzino il suo output e per trovare i \"gradienti\" che indicano la direzione in cui il modello deve essere aggiustato per migliorare le sue prestazioni.\\n    *   **Ottimizzazione:** Tutta la teoria dietro la ricerca del \"miglior\" set di parametri per un modello AI si basa su principi di ottimizzazione matematica.\\n\\n4.  **Gestione dell\\'Incertezza e Previsione:**\\n    *   **Probabilità e Statistica:** Il mondo reale è intrinsecamente incerto. Gli agenti AI devono prendere decisioni basate su dati incompleti o rumorosi. La probabilità e la statistica forniscono gli strumenti per:\\n        *   Modellare l\\'incertezza (es. distribuzioni di probabilità).\\n        *   Fare inferenze e previsioni (es. classificazione, regressione).\\n        *   Quantificare la fiducia nelle decisioni prese (es. reti bayesiane).\\n        *   Analizzare e comprendere i dati di input.\\n\\n5.  **Progettazione di Algoritmi e Logica:**\\n    *   **Matematica Discreta:** Fondamentale per la logica computazionale, la teoria dei grafi (utilizzata in algoritmi di ricerca e reti neurali), la combinatoria e la comprensione della complessità algoritmica. Questa branca della matematica è cruciale per costruire algoritmi efficienti e per capire le limitazioni computazionali.\\n\\n6.  **Comprensione Profonda e Innovazione:**\\n    *   Senza la matematica, un agente AI è una \"scatola nera\". Con la matematica, puoi aprire la scatola, capire perché un modello funziona (o non funziona), debuggarlo, migliorarlo e, soprattutto, *innovare*. Ti permette di sviluppare nuove architetture, funzioni di perdita personalizzate o algoritmi di apprendimento più efficienti.\\n\\n7.  **Problem Solving e Pensiero Critico:**\\n    *   Lo studio della matematica affina la capacità di problem solving, il pensiero logico e la capacità di astrazione, tutte competenze cruciali per affrontare le sfide complesse e spesso inedite che si presentano nello sviluppo di agenti AI.\\n\\nIn sintesi, la matematica non è un optional, ma la spina dorsale dell\\'intelligenza artificiale. Permette non solo di *utilizzare* gli strumenti esistenti, ma di *comprenderli a fondo*, di *innovare* e di *creare* la prossima generazione di agenti intelligenti.', input_guardrail_results=[], output_guardrail_results=[], context_wrapper=RunContextWrapper(context=None, usage=Usage(requests=1, input_tokens=23, input_tokens_details=InputTokensDetails(cached_tokens=0), output_tokens=827, output_tokens_details=OutputTokensDetails(reasoning_tokens=0), total_tokens=2439)), _last_agent=Agent(name='MathAgent', handoff_description=None, tools=[], mcp_servers=[], mcp_config={}, instructions='You are a helpful math assistant. \\n                     Always answer in Italian', prompt=None, handoffs=[], model=<agents.models.openai_chatcompletions.OpenAIChatCompletionsModel object at 0x7e29f9e07490>, model_settings=ModelSettings(temperature=None, top_p=None, frequency_penalty=None, presence_penalty=None, tool_choice=None, parallel_tool_calls=None, truncation=None, max_tokens=None, reasoning=None, metadata=None, store=None, include_usage=None, response_include=None, extra_query=None, extra_body=None, extra_headers=None, extra_args=None), input_guardrails=[], output_guardrails=[], output_type=None, hooks=None, tool_use_behavior='run_llm_again', reset_tool_choice=True))"
            ]
          },
          "metadata": {},
          "execution_count": 9
        }
      ],
      "source": [
        "result #developer information"
      ]
    },
    {
      "cell_type": "code",
      "source": [
        "# Runner.run_sync?  --> # to run the sync request, used just for learning but the below two will actually be used according to our usecase\n",
        "# Runner.run? --> # Async method\n",
        "# Runner.run_streamed? --> # if you want to know all the processes it did in the backend to bring your answer"
      ],
      "metadata": {
        "id": "IVXRJFjGhf7S"
      },
      "execution_count": 1,
      "outputs": []
    },
    {
      "cell_type": "markdown",
      "metadata": {
        "id": "1m8xnCs4KKG5"
      },
      "source": [
        "# 💬 Step 3: Running Agent Asynchronously"
      ]
    },
    {
      "cell_type": "code",
      "execution_count": null,
      "metadata": {
        "colab": {
          "base_uri": "https://localhost:8080/"
        },
        "id": "jZA-iSR9KMJ9",
        "outputId": "a88992a8-ea32-4531-cdbf-27d30afc5ba1"
      },
      "outputs": [
        {
          "name": "stdout",
          "output_type": "stream",
          "text": [
            "Recursion in programming is a powerful concept where a function calls itself, directly or indirectly, to solve a problem. Think of it as defining something in terms of itself, but with a built-in \"stop\" condition.\n",
            "\n",
            "To understand recursion, you need to grasp two main components:\n",
            "\n",
            "1.  **Base Case:** This is the essential condition that stops the recursion. Without a base case, the function would call itself indefinitely, leading to an infinite loop (and eventually a \"stack overflow\" error). The base case provides a direct answer for the simplest version of the problem.\n",
            "2.  **Recursive Step:** This is the part where the function calls itself with a modified (usually smaller or simpler) input. The idea is that you break down the problem into smaller, similar subproblems until you reach the base case.\n",
            "\n",
            "### How Recursion Works (Under the Hood): The Call Stack\n",
            "\n",
            "When a function is called, the computer allocates a block of memory on something called the **call stack**. This block, known as a **stack frame**, stores information about that function call (its local variables, parameters, and the point in the code to return to after the function finishes).\n",
            "\n",
            "When a recursive function calls itself, a new stack frame is pushed onto the stack for each call. This continues until the base case is reached. Once the base case returns a value, the stack frames start to \"unwind\" one by one. Each function call finishes its execution using the return value from the call beneath it, until the very first call completes and returns the final result.\n",
            "\n",
            "### Analogy: Matryoshka Dolls (Russian Nesting Dolls)\n",
            "\n",
            "Imagine you have a set of Matryoshka dolls.\n",
            "*   **The Problem:** Find the smallest doll inside.\n",
            "*   **Recursive Step:** If the doll in your hand isn't the smallest, open it.\n",
            "*   **Base Case:** If the doll you're holding *is* the smallest (you can't open it further), you've found your answer.\n",
            "\n",
            "You keep opening dolls (recursive step) until you hit the smallest one (base case). Then you know the answer for that doll, and you can close up the larger dolls, one by one, until you've closed all of them, having found the smallest.\n",
            "\n",
            "### When to Use Recursion (Advantages):\n",
            "\n",
            "1.  **Elegance and Readability:** For problems that are naturally self-similar or can be defined in terms of smaller versions of themselves, recursive solutions can be very clean, intuitive, and concise.\n",
            "2.  **Solving Specific Problem Types:**\n",
            "    *   **Tree and Graph Traversal:** Many algorithms for traversing data structures like trees (e.g., depth-first search, in-order/pre-order/post-order traversals) are inherently recursive.\n",
            "    *   **Divide and Conquer Algorithms:** Algorithms like Merge Sort, Quick Sort, and binary search break a problem into smaller subproblems, solve them recursively, and then combine the results.\n",
            "    *   **Fractals:** Generating fractals is often done recursively.\n",
            "\n",
            "### When Not to Use Recursion (Disadvantages and Considerations):\n",
            "\n",
            "1.  **Performance Overhead:** Each function call has some overhead (managing the call stack, saving/restoring registers). For simple problems, an iterative (loop-based) solution is often faster and more memory-efficient.\n",
            "2.  **Memory Usage (Stack Overflow):** If the recursion goes too deep (too many nested calls), it can exhaust the available memory on the call stack, leading to a \"Stack Overflow Error.\" This is common if the base case is not reachable or the problem size is too large for the recursion depth.\n",
            "3.  **Debugging:** Tracing the execution flow of recursive functions can be more challenging than iterative ones, as you're jumping in and out of the same function.\n",
            "4.  **Tail Recursion Optimization (Advanced):** Some compilers and interpreters can optimize a specific type of recursion called \"tail recursion\" to behave more like an iteration, reducing the stack overhead. However, not all languages or environments support this.\n",
            "\n",
            "### Example: Calculating Factorial\n",
            "\n",
            "The factorial of a non-negative integer `n`, denoted `n!`, is the product of all positive integers less than or equal to `n`.\n",
            "*   `5! = 5 * 4 * 3 * 2 * 1 = 120`\n",
            "*   `0! = 1` (by definition, this is our base case)\n",
            "\n",
            "Notice that `5! = 5 * (4!)`, and `4! = 4 * (3!)`, and so on. This shows the recursive nature.\n",
            "\n",
            "**Recursive Function in Python:**\n",
            "\n",
            "```python\n",
            "def factorial(n):\n",
            "    # 1. Base Case:\n",
            "    if n == 0:\n",
            "        return 1\n",
            "    # 2. Recursive Step:\n",
            "    else:\n",
            "        return n * factorial(n - 1)\n",
            "\n",
            "# Let's trace factorial(3):\n",
            "# factorial(3)\n",
            "#   -> return 3 * factorial(2)\n",
            "#                   -> return 2 * factorial(1)\n",
            "#                                   -> return 1 * factorial(0)\n",
            "#                                                   -> return 1 (Base case reached!)\n",
            "#                                   -> returns 1 * 1 = 1\n",
            "#                   -> returns 2 * 1 = 2\n",
            "#   -> returns 3 * 2 = 6\n",
            "\n",
            "print(factorial(5))  # Output: 120\n",
            "print(factorial(0))  # Output: 1\n",
            "# print(factorial(-1)) # This would lead to infinite recursion and a Stack Overflow!\n",
            "```\n",
            "\n",
            "### In Summary:\n",
            "\n",
            "Recursion is a powerful and elegant technique for solving problems that can be broken down into smaller, self-similar subproblems. It's crucial to always define a clear **base case** to prevent infinite loops. While it offers readability and simplicity for certain problem domains, be mindful of its potential performance and memory overhead compared to iterative solutions.\n"
          ]
        }
      ],
      "source": [
        "import asyncio\n",
        "\n",
        "async def main():\n",
        " # await is a for the async function i.e run\n",
        "    result: Runner = await Runner.run(math_agent, \"Tell me about recursion in programming.\")\n",
        "\n",
        "    print(result.final_output)\n",
        "\n",
        "#await main()    -> Normally we cant use it\n",
        "\n",
        "\n",
        "\n",
        "asyncio.run(main())"
      ]
    },
    {
      "cell_type": "markdown",
      "metadata": {
        "id": "7RKgPtw2XlJs"
      },
      "source": [
        "## Example 1:\n",
        "### 👨‍🍳🍽️ Recipe Bot"
      ]
    },
    {
      "cell_type": "code",
      "execution_count": null,
      "metadata": {
        "id": "0LzWsFBvapjz"
      },
      "outputs": [],
      "source": [
        "set_tracing_disabled(disabled=True)\n",
        "\n",
        "# Client Setup for Connecting to Gemini\n",
        "external_client:AsyncOpenAI = AsyncOpenAI(\n",
        "    api_key=gemini_api_key,\n",
        "    base_url=\"https://generativelanguage.googleapis.com/v1beta/openai/\",\n",
        ")\n",
        "\n",
        "#Initialize model\n",
        "model:OpenAIChatCompletionsModel = OpenAIChatCompletionsModel(\n",
        "    model=\"gemini-2.5-flash\",\n",
        "    openai_client=external_client\n",
        ")\n",
        "\n",
        "def main():\n",
        "  # Create the Recipe Agent\n",
        "  agent = Agent(\n",
        "      name=\"RecipeBot\",\n",
        "      instructions=(\n",
        "          \"\"\"You are a helpful recipe assistant. A user will give you a few ingredients\n",
        "          they have at home, and you will suggest one simple and quick recipe using only those items.\n",
        "          Keep it short, step-by-step, and easy for beginners to cook.\"\"\"\n",
        "      ),\n",
        "      model=model\n",
        "  )\n",
        "\n",
        "  print(\"\\n🍳 What can I cook today?\\n\")\n",
        "  ingredients = \"eggs, tomatoes, onions, and bread\"\n",
        "  result:Runner = Runner.run_sync(agent, f\"I have these at home: {ingredients}. What can I cook?\")\n",
        "\n",
        "  print(result.final_output)"
      ]
    },
    {
      "cell_type": "code",
      "execution_count": null,
      "metadata": {
        "colab": {
          "base_uri": "https://localhost:8080/"
        },
        "id": "DyfXjUXsawYr",
        "outputId": "13641075-1daf-4798-ee16-07453304428c"
      },
      "outputs": [
        {
          "name": "stdout",
          "output_type": "stream",
          "text": [
            "\n",
            "🍳 What can I cook today?\n",
            "\n",
            "Here's a quick and simple recipe for you:\n",
            "\n",
            "**Tomato & Onion Scramble on Toast**\n",
            "\n",
            "This recipe makes 1 serving.\n",
            "\n",
            "**You'll need:**\n",
            "*   2 eggs\n",
            "*   1/4 onion\n",
            "*   1/2 tomato\n",
            "*   2 slices bread\n",
            "*   A little cooking oil or butter (optional, but recommended)\n",
            "*   Salt and pepper (optional, but recommended)\n",
            "\n",
            "**Steps:**\n",
            "\n",
            "1.  **Prep:** Dice the onion finely. Dice the tomato into small pieces.\n",
            "2.  **Sauté Veggies:** Heat a small pan over medium heat. Add a tiny bit of oil or butter if you have it. Add the diced onion and cook for 2-3 minutes until it starts to soften. Then add the diced tomato and cook for another 1-2 minutes until slightly tender.\n",
            "3.  **Scramble Eggs:** While the veggies cook, crack your eggs into a bowl, add a pinch of salt and pepper (if using), and whisk them lightly with a fork. Pour the whisked eggs into the pan with the cooked vegetables.\n",
            "4.  **Cook & Toast:** Let the eggs set for a few seconds, then gently push and fold them with a spatula until they are cooked to your liking (soft scrambled). At the same time, pop your bread into a toaster or toast it in another pan until golden.\n",
            "5.  **Serve:** Spoon the egg and vegetable mixture onto your toasted bread. Enjoy!\n"
          ]
        }
      ],
      "source": [
        "if __name__ == \"__main__\":\n",
        "    main()"
      ]
    }
  ],
  "metadata": {
    "colab": {
      "provenance": [],
      "include_colab_link": true
    },
    "kernelspec": {
      "display_name": "Python 3",
      "name": "python3"
    },
    "language_info": {
      "name": "python"
    }
  },
  "nbformat": 4,
  "nbformat_minor": 0
}